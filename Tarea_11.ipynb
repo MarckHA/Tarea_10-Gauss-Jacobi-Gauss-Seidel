{
 "cells": [
  {
   "cell_type": "raw",
   "id": "85446bc4-5006-4185-b2f5-f8a88a05f777",
   "metadata": {},
   "source": [
    "---\n",
    "lang: es\n",
    "format: \n",
    "  pdf: \n",
    "    cite-method: biblatex\n",
    "    number-sections: false\n",
    "    lof: false\n",
    "    lot: false\n",
    "    fontfamily: fontenc\n",
    "    font-type: ptm\n",
    "    colorlinks: true\n",
    "    pagestyle: empty\n",
    "    geometry: \"left=3cm, right=2cm, top=2cm, bottom=2cm, marginparwidth=2cm\"\n",
    "    documentclass: article\n",
    "    header-includes:\n",
    "      - \\usepackage{titling}\n",
    "      - \\setlength{\\droptitle}{-5em}\n",
    "execute:\n",
    "    echo: true\n",
    "    error: false\n",
    "    warning: false\n",
    "jupyter: python3\n",
    "bibliography: ref.bib\n",
    "link-citations: true\n",
    "---"
   ]
  },
  {
   "cell_type": "markdown",
   "id": "e9c6c690-f035-4d71-a56a-ffc5615052a7",
   "metadata": {},
   "source": [
    "## Tarea 11 - Gauss-Jacobi y Gauss-Seidel"
   ]
  },
  {
   "cell_type": "code",
   "execution_count": 3,
   "id": "a2ec4df1-8f10-425e-a65f-3c1cdca250ef",
   "metadata": {
    "tags": []
   },
   "outputs": [],
   "source": [
    "%load_ext autoreload\n",
    "import numpy as np\n",
    "from src import gauss_jacobi,gauss_jacobi_iteraciones\n",
    "from src import gauss_seidel, gauss_seidel_iteraciones,es_diagonal_estrictamente_dominante"
   ]
  },
  {
   "cell_type": "markdown",
   "id": "88c30ac6-bf3e-4b35-9ae1-39842faeadeb",
   "metadata": {},
   "source": [
    "### Conjunto de Ejercicios"
   ]
  },
  {
   "cell_type": "markdown",
   "id": "3438a8b4-a85e-477f-94db-8fc70fb7f231",
   "metadata": {},
   "source": [
    "1. Encuentre las primeras dos iteraciones del método de Jacobi para los siguientes sistemas lineales, por medio de $x^{(0)} = 0$:"
   ]
  },
  {
   "cell_type": "markdown",
   "id": "0679f9bb-68a0-4fe8-a6aa-e08bdcbca247",
   "metadata": {},
   "source": [
    "\\textbf{a.} \\begin{eqnarray*} 3x_1-x_2+x_3=1, \\\\ 3x_1+6x_2+2x_3=0, \\\\ 3x_1+3x_2+7x_3 = 4 \\end{eqnarray*} "
   ]
  },
  {
   "cell_type": "code",
   "execution_count": 7,
   "id": "6fb76568-f437-4374-aa91-038d35c953a7",
   "metadata": {
    "tags": []
   },
   "outputs": [
    {
     "name": "stdout",
     "output_type": "stream",
     "text": [
      "Iteración 1 , solución aproximada: [0.33333333 0.         0.57142857]\n",
      "Iteración 2 , solución aproximada: [0.33333333 0.         0.57142857]\n"
     ]
    }
   ],
   "source": [
    "%autoreload 2\n",
    "A = [[3,-1,1],[3,6,2],[3,3,7]]\n",
    "b = np.array([1,0,4],dtype=float)\n",
    "x0=np.zeros(len(b))\n",
    "max_iter = 2\n",
    "tol = 10e-6\n",
    "\n",
    "x = gauss_jacobi_iteraciones(A, b, x0, tol, max_iter)\n"
   ]
  },
  {
   "cell_type": "markdown",
   "id": "a0e9da56-4334-4b74-989f-8380fc3a901c",
   "metadata": {},
   "source": [
    "\\textbf{b.}  \\begin{eqnarray*} 10x_1-x_2\\hspace{1.4cm}=9, \\\\ -x_1+10x_2-2x_3=7, \\\\ \\hspace{1cm}-2x_2+10x_3 = 6 \\end{eqnarray*} "
   ]
  },
  {
   "cell_type": "code",
   "execution_count": 9,
   "id": "99f1f649-8378-4cb3-b775-4c935ccc8686",
   "metadata": {
    "tags": []
   },
   "outputs": [
    {
     "name": "stdout",
     "output_type": "stream",
     "text": [
      "Iteración 1 , solución aproximada: [0.9 0.7 0.6]\n",
      "Iteración 2 , solución aproximada: [0.9 0.7 0.6]\n"
     ]
    }
   ],
   "source": [
    "%autoreload 2\n",
    "A = [[10,-1,0],[-1,10,-2],[0,-2,10]]\n",
    "b = np.array([9,7,6],dtype=float)\n",
    "x0=np.zeros(len(b))\n",
    "max_iter = 2\n",
    "tol = 10e-6\n",
    "\n",
    "x = gauss_jacobi_iteraciones(A, b, x0, tol, max_iter)"
   ]
  },
  {
   "cell_type": "markdown",
   "id": "f29d6ccf-5aa7-422e-8179-95cd1cf90afc",
   "metadata": {},
   "source": [
    "\\textbf{c.}  \\begin{eqnarray*} 10x_1-5x_2\\hspace{2cm}=6, \\\\ 5x_1+10x_2-4x_3\\hspace{1cm}=25, \\\\ \\hspace{1cm}-4x_2+8x_3-x_4 = -11, \\\\ \\hspace{2cm} -x_3+5x_4=-11 \\end{eqnarray*} "
   ]
  },
  {
   "cell_type": "code",
   "execution_count": 11,
   "id": "ac27385e-9834-4afa-9922-97cab01310a8",
   "metadata": {
    "tags": []
   },
   "outputs": [
    {
     "name": "stdout",
     "output_type": "stream",
     "text": [
      "Iteración 1 , solución aproximada: [ 1.6    2.5   -1.375 -2.2  ]\n",
      "Iteración 2 , solución aproximada: [ 1.6    2.5   -1.375 -2.2  ]\n"
     ]
    }
   ],
   "source": [
    "%autoreload 2\n",
    "A = [[10,-5,0,0],[5,10,-4,0],[0,-4,8,-1],[0,0,-1,5]]\n",
    "b = np.array([16,25,-11,-11],dtype=float)\n",
    "x0=np.zeros(len(b))\n",
    "max_iter = 2\n",
    "tol = 10e-6\n",
    "\n",
    "x = gauss_jacobi_iteraciones(A, b, x0, tol, max_iter)"
   ]
  },
  {
   "cell_type": "markdown",
   "id": "409087f0-518f-4c5b-89bd-8485606e583c",
   "metadata": {},
   "source": [
    "\\textbf{d.}  \\begin{eqnarray*} 4x_1+x_2+x_3\\hspace{1cm}+x_5=6, \\\\ -x_1-3x_2+x_3+x_4\\hspace{1cm}=6, \\\\ 2x_1+x_2+5x_3-x_4-x_5 = 6, \\\\ -x_1-x_2-x_3+4x_4 \\hspace{1cm} =6, \\\\ \\hspace{1cm}2x_2-x_3+x_4+4x_5=6 \\end{eqnarray*} "
   ]
  },
  {
   "cell_type": "code",
   "execution_count": 13,
   "id": "39ab19d6-5563-4273-857d-7b658af3198f",
   "metadata": {
    "tags": []
   },
   "outputs": [
    {
     "name": "stdout",
     "output_type": "stream",
     "text": [
      "Iteración 1 , solución aproximada: [ 1.5 -2.   1.2  1.5  1.5]\n",
      "Iteración 2 , solución aproximada: [ 1.5 -2.   1.2  1.5  1.5]\n"
     ]
    }
   ],
   "source": [
    "%autoreload 2\n",
    "A = [[4,1,1,0,1],[-1,-3,1,1,0],[2,1,5,-1,-1],[-1,-1,-1,4,0],[0,2,-1,1,4]]\n",
    "b = np.array([6,6,6,6,6],dtype=float)\n",
    "x0=np.zeros(len(b))\n",
    "max_iter = 2\n",
    "tol = 10e-6\n",
    "\n",
    "x = gauss_jacobi_iteraciones(A, b, x0, tol, max_iter)"
   ]
  },
  {
   "cell_type": "markdown",
   "id": "ae2e8959-1259-483f-bcb5-75c013a66274",
   "metadata": {},
   "source": [
    "2. Repita el ejercicio 1 usando el método de Gauss-Siedel"
   ]
  },
  {
   "cell_type": "code",
   "execution_count": 15,
   "id": "a22d3932-bd34-44d7-b232-a88fea2dd87e",
   "metadata": {
    "tags": []
   },
   "outputs": [
    {
     "name": "stdout",
     "output_type": "stream",
     "text": [
      "\n",
      "Literal a:\n",
      "\n",
      "Iteración 1 , solución aproximada: [ 0.33333333 -0.16666667  0.5       ]\n",
      "Iteración 2 , solución aproximada: [ 0.33333333 -0.16666667  0.5       ]\n",
      "\n",
      "Literal b:\n",
      "\n",
      "Iteración 1 , solución aproximada: [0.9   0.79  0.758]\n",
      "Iteración 2 , solución aproximada: [0.9   0.79  0.758]\n",
      "\n",
      "Literal c:\n",
      "\n",
      "Iteración 1 , solución aproximada: [ 1.6    1.7   -0.525 -2.305]\n",
      "Iteración 2 , solución aproximada: [ 1.6    1.7   -0.525 -2.305]\n",
      "\n",
      "Literal d:\n",
      "\n",
      "Iteración 1 , solución aproximada: [ 1.5     -2.5      1.1      1.525    2.64375]\n",
      "Iteración 2 , solución aproximada: [ 1.5     -2.5      1.1      1.525    2.64375]\n"
     ]
    }
   ],
   "source": [
    "%autoreload 2\n",
    "print(\"\\nLiteral a:\\n\")\n",
    "A = [[3,-1,1],[3,6,2],[3,3,7]]\n",
    "b = np.array([1,0,4],dtype=float)\n",
    "x0=np.zeros(len(b))\n",
    "max_iter = 2\n",
    "tol = 10e-6\n",
    "\n",
    "A = np.array(A, dtype=float)\n",
    "\n",
    "gauss_seidel_iteraciones(A,b,x0,tol,max_iter)\n",
    "\n",
    "print(\"\\nLiteral b:\\n\")\n",
    "A = [[10,-1,0],[-1,10,-2],[0,-2,10]]\n",
    "b = np.array([9,7,6],dtype=float)\n",
    "x0=np.zeros(len(b))\n",
    "max_iter = 2\n",
    "tol = 10e-6\n",
    "\n",
    "A = np.array(A, dtype=float)\n",
    "\n",
    "gauss_seidel_iteraciones(A,b,x0,tol,max_iter)\n",
    "\n",
    "print(\"\\nLiteral c:\\n\")\n",
    "A = [[10,-5,0,0],[5,10,-4,0],[0,-4,8,-1],[0,0,-1,5]]\n",
    "b = np.array([16,25,-11,-11],dtype=float)\n",
    "x0=np.zeros(len(b))\n",
    "max_iter = 2\n",
    "tol = 10e-6\n",
    "\n",
    "A = np.array(A, dtype=float)\n",
    "\n",
    "gauss_seidel_iteraciones(A,b,x0,tol,max_iter)\n",
    "\n",
    "print(\"\\nLiteral d:\\n\")\n",
    "A = [[4,1,1,0,1],[-1,-3,1,1,0],[2,1,5,-1,-1],[-1,-1,-1,4,0],[0,2,-1,1,4]]\n",
    "b = np.array([6,6,6,6,6],dtype=float)\n",
    "x0=np.zeros(len(b))\n",
    "max_iter = 2\n",
    "tol = 10e-6\n",
    "\n",
    "A = np.array(A, dtype=float)\n",
    "\n",
    "gauss_seidel_iteraciones(A,b,x0,tol,max_iter)"
   ]
  },
  {
   "cell_type": "markdown",
   "id": "e4189503-7946-428a-bca0-a73d5d981263",
   "metadata": {},
   "source": [
    "3. Utilice el método de Jacobi para resolver los sistemas lineales en el ejercicio 1, con TOL = 10-3"
   ]
  },
  {
   "cell_type": "code",
   "execution_count": 17,
   "id": "c8aaf8d2-600b-46e0-8390-b325324dbff2",
   "metadata": {
    "tags": []
   },
   "outputs": [
    {
     "name": "stdout",
     "output_type": "stream",
     "text": [
      "Literal a:\n",
      "\n",
      "Se llego a la solución aproximada en el rango deseado con \n",
      "x = [ 0.03490444 -0.23975543  0.6547619 ]\n",
      "\n",
      "Literal b:\n",
      "\n",
      "Se llego a la solución aproximada en el rango deseado con \n",
      "x = [0.99555 0.95725 0.7911 ]\n",
      "\n",
      "Literal c:\n",
      "\n",
      "Se llego a la solución aproximada en el rango deseado con \n",
      "x = [ 2.09023438  0.9784625  -1.18959961 -2.4369875 ]\n",
      "\n",
      "Literal d:\n",
      "\n",
      "Se llego a la solución aproximada en el rango deseado con \n",
      "x = [ 0.7850751  -0.99873844  1.8646296   1.91522095  1.98538479]\n"
     ]
    }
   ],
   "source": [
    "%autoreload 2\n",
    "print(\"Literal a:\\n\")\n",
    "A = [[3,-1,1],[3,6,2],[3,3,7]]\n",
    "b = np.array([1,0,4],dtype=float)\n",
    "x0=np.zeros(len(b))\n",
    "max_iter = 100\n",
    "tol = 10e-3\n",
    "\n",
    "try:\n",
    "    x = gauss_jacobi(A, b, x0, tol, max_iter)\n",
    "    print(\"Se llego a la solución aproximada en el rango deseado con \\nx =\",x)\n",
    "except ValueError as e:\n",
    "    print(e)\n",
    "    \n",
    "print(\"\\nLiteral b:\\n\")\n",
    "A = [[10,-1,0],[-1,10,-2],[0,-2,10]]\n",
    "b = np.array([9,7,6],dtype=float)\n",
    "x0=np.zeros(len(b))\n",
    "max_iter = 100\n",
    "tol = 10e-3\n",
    "\n",
    "try:\n",
    "    x = gauss_jacobi(A, b, x0, tol, max_iter)\n",
    "    print(\"Se llego a la solución aproximada en el rango deseado con \\nx =\",x)\n",
    "except ValueError as e:\n",
    "    print(e)\n",
    "    \n",
    "print(\"\\nLiteral c:\\n\")\n",
    "A = [[10,-5,0,0],[5,10,-4,0],[0,-4,8,-1],[0,0,-1,5]]\n",
    "b = np.array([16,25,-11,-11],dtype=float)\n",
    "x0=np.zeros(len(b))\n",
    "max_iter = 100\n",
    "tol = 10e-3\n",
    "\n",
    "try:\n",
    "    x = gauss_jacobi(A, b, x0, tol, max_iter)\n",
    "    print(\"Se llego a la solución aproximada en el rango deseado con \\nx =\",x)\n",
    "except ValueError as e:\n",
    "    print(e)\n",
    "    \n",
    "print(\"\\nLiteral d:\\n\")\n",
    "A = [[4,1,1,0,1],[-1,-3,1,1,0],[2,1,5,-1,-1],[-1,-1,-1,4,0],[0,2,-1,1,4]]\n",
    "b = np.array([6,6,6,6,6],dtype=float)\n",
    "x0=np.zeros(len(b))\n",
    "max_iter = 100\n",
    "tol = 10e-3\n",
    "\n",
    "try:\n",
    "    x = gauss_jacobi(A, b, x0, tol, max_iter)\n",
    "    print(\"Se llego a la solución aproximada en el rango deseado con \\nx =\",x)\n",
    "except ValueError as e:\n",
    "    print(e)"
   ]
  },
  {
   "cell_type": "markdown",
   "id": "56162648-0eaf-472a-acb7-b2bdb09fddc9",
   "metadata": {},
   "source": [
    "4. Utilice el método de Gauss-Siedel para resolver los sistemas lineales en el ejercicio 1, con TOL = 10-3."
   ]
  },
  {
   "cell_type": "code",
   "execution_count": 19,
   "id": "38da0b99-17b7-469b-9ae7-75734fbe096b",
   "metadata": {
    "tags": []
   },
   "outputs": [
    {
     "name": "stdout",
     "output_type": "stream",
     "text": [
      "Literal a:\n",
      "\n",
      "Se llego a la solución aproximada en el rango deseado con \n",
      "x = [ 0.0361492  -0.23660752  0.65733928]\n",
      "\n",
      "Literal b:\n",
      "\n",
      "Se llego a la solución aproximada en el rango deseado con \n",
      "x = [0.9957475  0.95787375 0.79157475]\n",
      "\n",
      "Literal c:\n",
      "\n",
      "Se llego a la solución aproximada en el rango deseado con \n",
      "x = [ 2.08980938  0.97914391 -1.19017501 -2.438035  ]\n",
      "\n",
      "Literal d:\n",
      "\n",
      "Se llego a la solución aproximada en el rango deseado con \n",
      "x = [ 0.78616258 -1.00240703  1.86606999  1.91245638  1.98960692]\n"
     ]
    }
   ],
   "source": [
    "%autoreload 2\n",
    "print(\"Literal a:\\n\")\n",
    "A = [[3,-1,1],[3,6,2],[3,3,7]]\n",
    "b = np.array([1,0,4],dtype=float)\n",
    "x0=np.zeros(len(b))\n",
    "max_iter = 100\n",
    "tol = 10e-3\n",
    "\n",
    "A = np.array(A, dtype=float)\n",
    "\n",
    "try:\n",
    "    x = gauss_seidel(A, b, x0, tol, max_iter)\n",
    "    print(\"Se llego a la solución aproximada en el rango deseado con \\nx =\",x)\n",
    "except ValueError as e:\n",
    "    print(e)\n",
    "    \n",
    "print(\"\\nLiteral b:\\n\")\n",
    "A = [[10,-1,0],[-1,10,-2],[0,-2,10]]\n",
    "b = np.array([9,7,6],dtype=float)\n",
    "x0=np.zeros(len(b))\n",
    "max_iter = 100\n",
    "tol = 10e-3\n",
    "\n",
    "A = np.array(A, dtype=float)\n",
    "\n",
    "try:\n",
    "    x = gauss_seidel(A, b, x0, tol, max_iter)\n",
    "    print(\"Se llego a la solución aproximada en el rango deseado con \\nx =\",x)\n",
    "except ValueError as e:\n",
    "    print(e)\n",
    "    \n",
    "print(\"\\nLiteral c:\\n\")\n",
    "A = [[10,-5,0,0],[5,10,-4,0],[0,-4,8,-1],[0,0,-1,5]]\n",
    "b = np.array([16,25,-11,-11],dtype=float)\n",
    "x0=np.zeros(len(b))\n",
    "max_iter = 100\n",
    "tol = 10e-3\n",
    "\n",
    "A = np.array(A, dtype=float)\n",
    "\n",
    "try:\n",
    "    x = gauss_seidel(A, b, x0, tol, max_iter)\n",
    "    print(\"Se llego a la solución aproximada en el rango deseado con \\nx =\",x)\n",
    "except ValueError as e:\n",
    "    print(e)\n",
    "    \n",
    "print(\"\\nLiteral d:\\n\")\n",
    "A = [[4,1,1,0,1],[-1,-3,1,1,0],[2,1,5,-1,-1],[-1,-1,-1,4,0],[0,2,-1,1,4]]\n",
    "b = np.array([6,6,6,6,6],dtype=float)\n",
    "x0=np.zeros(len(b))\n",
    "max_iter = 100\n",
    "tol = 10e-3\n",
    "\n",
    "A = np.array(A, dtype=float)\n",
    "\n",
    "try:\n",
    "    x = gauss_seidel(A, b, x0, tol, max_iter)\n",
    "    print(\"Se llego a la solución aproximada en el rango deseado con \\nx =\",x)\n",
    "except ValueError as e:\n",
    "    print(e)"
   ]
  },
  {
   "cell_type": "markdown",
   "id": "93faef51-2207-4c30-9f24-af63ea51050d",
   "metadata": {},
   "source": [
    "5. El sistema lineal \\begin{eqnarray*} 2x_1-x_2+x_3=-1, \\\\ 2x_1+2x_2+2x_3=4, \\\\ -x_1-x_2+2x_3 = -5, \\end{eqnarray*}   tiene la solución (1,2,-1).   \n",
    "\\textbf{a)} Muestre que el método de Jacobi con x(0) = 0 falla al proporcionar una buena aproximación después de 25 iteraciones"
   ]
  },
  {
   "cell_type": "code",
   "execution_count": 21,
   "id": "f7983698-2cf5-48b2-8a54-d683cc5a23f8",
   "metadata": {
    "tags": []
   },
   "outputs": [
    {
     "name": "stdout",
     "output_type": "stream",
     "text": [
      "La solució obtenida con Gauss-Jacobi es de \n",
      "x = [ 0.5  2.  -2.5]\n"
     ]
    }
   ],
   "source": [
    "%autoreload 2\n",
    "A = [[2,-1,1],[2,2,2,],[-1,-1,2]]\n",
    "b = [1,4,-5]\n",
    "x0 = np.zeros(len(b))\n",
    "tol = 3\n",
    "max_iter = 25\n",
    "\n",
    "try:\n",
    "    x = gauss_jacobi(A, b, x0, tol, max_iter)\n",
    "    print(\"La solució obtenida con Gauss-Jacobi es de \\nx =\",x)\n",
    "except ValueError as e:\n",
    "    print(e)"
   ]
  },
  {
   "cell_type": "markdown",
   "id": "ed50faf1-0adb-4963-9267-07b6b81a879b",
   "metadata": {},
   "source": [
    "\\textbf{b)} Utilice el método de Gauss-Siedel con $x^{(0)}=0$: para aproximar la solución para el sistema lineal dentro de $10^{-5}$."
   ]
  },
  {
   "cell_type": "code",
   "execution_count": 23,
   "id": "53055ec4-bef2-405f-8c2c-75d1e591883a",
   "metadata": {
    "tags": []
   },
   "outputs": [
    {
     "name": "stdout",
     "output_type": "stream",
     "text": [
      "La solución obtenida con Gauss-Seidel es de \n",
      "x = [ 1.66669655  1.33329964 -1.00000191]\n"
     ]
    }
   ],
   "source": [
    "%autoreload 2\n",
    "tol = 10e-5\n",
    "A = np.array(A, dtype=float)\n",
    "\n",
    "try:\n",
    "    x = gauss_seidel(A, b, x0, tol, max_iter)\n",
    "    print(\"La solución obtenida con Gauss-Seidel es de \\nx =\",x)\n",
    "except ValueError as e:\n",
    "    print(e)"
   ]
  },
  {
   "cell_type": "markdown",
   "id": "eacafe20-6896-4a37-a38c-802bfb0f809a",
   "metadata": {},
   "source": [
    "6. El sistema lineal \\begin{eqnarray*} x_1\\hspace{1cm}-x_3=0.2, \\\\ -\\dfrac{1}{2}x_1+x_2-\\dfrac{1}{4}x_3=-1.425, \\\\ x_1-\\dfrac{1}{2}x_2+x_3 = 2, \\end{eqnarray*}  tiene la solución (0.9,-0.8, 0.7).  \n",
    "\\textbf{a)} ¿La matriz de coeficientes \n",
    "\\begin{equation*}\n",
    "    A=\n",
    "    \\begin{bmatrix}\n",
    "        1 & 0 & -1\\\\\n",
    "        \\dfrac{1}{2} & 1 & -\\dfrac{1}{4}\\\\\n",
    "        1 & -\\dfrac{1}{2} & 1\n",
    "    \\end{bmatrix}\n",
    "\\end{equation*}\n",
    "tiene diagonal estrictamente dominante?"
   ]
  },
  {
   "cell_type": "code",
   "execution_count": 25,
   "id": "db5a4d6c-0983-491c-b338-62022999e89f",
   "metadata": {
    "tags": []
   },
   "outputs": [
    {
     "name": "stdout",
     "output_type": "stream",
     "text": [
      "La matriz NO es estrictamente diagonal dominante.\n"
     ]
    }
   ],
   "source": [
    "%autoreload 2\n",
    "A = np.array([\n",
    "    [1, 0, -1],\n",
    "    [1/2,1,-1/4],\n",
    "    [1,-1/2,1]\n",
    "], dtype=float)\n",
    "\n",
    "if es_diagonal_estrictamente_dominante(A):\n",
    "    print(\"La matriz es estrictamente diagonal dominante.\")\n",
    "else:\n",
    "    print(\"La matriz NO es estrictamente diagonal dominante.\")"
   ]
  },
  {
   "cell_type": "markdown",
   "id": "faa319f0-bdfe-435f-9031-0a1f3f1f0506",
   "metadata": {},
   "source": [
    "\\textbf{b)} Utilice el método iterativo de Gauss-Siedel para aproximar la solución para el sistema lineal con una tolerancia de 10^{-22} y un máximo de 300 iteraciones.\n"
   ]
  },
  {
   "cell_type": "code",
   "execution_count": 27,
   "id": "fb64d95e-3b55-4178-8d73-02a48e627cbd",
   "metadata": {
    "tags": []
   },
   "outputs": [
    {
     "name": "stdout",
     "output_type": "stream",
     "text": [
      "El método de Gauss-Seidel no convergió.\n"
     ]
    }
   ],
   "source": [
    "%autoreload 2\n",
    "b = [0.2,-1.425,2]\n",
    "x0 = np.zeros(len(b))\n",
    "tol = 10e-22\n",
    "max_iter = 300\n",
    "\n",
    "try:\n",
    "    x = gauss_seidel(A, b, x0, tol, max_iter)\n",
    "    print(\"La solución obtenida con Gauss-Seidel es de \\nx =\",x)\n",
    "except ValueError as e:\n",
    "    print(e)"
   ]
  },
  {
   "cell_type": "markdown",
   "id": "45ec05cc-ce69-4f47-8575-29a9d73c6cf2",
   "metadata": {},
   "source": [
    "\\textbf{c)} ¿Qué pasa en la parte b) cuando el sistema cambia por el siguiente?\n",
    "\\begin{eqnarray*} x_1\\hspace{1cm}-2x_3=0.2, \\\\ -\\dfrac{1}{2}x_1+x_2-\\dfrac{1}{4}x_3=-1.425, \\\\ x_1-\\dfrac{1}{2}x_2+x_3 = 2, \\end{eqnarray*}   "
   ]
  },
  {
   "cell_type": "code",
   "execution_count": 29,
   "id": "ba8a082c-b8c8-4d42-8e05-0e1e5be9bd11",
   "metadata": {
    "tags": []
   },
   "outputs": [
    {
     "name": "stdout",
     "output_type": "stream",
     "text": [
      "El método de Gauss-Seidel no convergió.\n"
     ]
    }
   ],
   "source": [
    "%autoreload 2\n",
    "A_mod = np.array([\n",
    "    [1, 0, -2],\n",
    "    [1/2,1,-1/4],\n",
    "    [1,-1/2,1]\n",
    "], dtype=float)\n",
    "\n",
    "try:\n",
    "    x = gauss_seidel(A_mod, b, x0, tol, max_iter)\n",
    "    print(\"La solución obtenida con Gauss-Seidel es de \\nx =\",x)\n",
    "except ValueError as e:\n",
    "    print(e)"
   ]
  },
  {
   "cell_type": "markdown",
   "id": "e2701e8a-7a3c-48a1-9f80-a7ec0f812381",
   "metadata": {},
   "source": [
    "7. Repita el ejercicio 6 usando el método de Jacobi."
   ]
  },
  {
   "cell_type": "code",
   "execution_count": 31,
   "id": "d2041f47-b696-4693-8234-5ee20cccd292",
   "metadata": {
    "tags": []
   },
   "outputs": [
    {
     "name": "stdout",
     "output_type": "stream",
     "text": [
      "\n",
      "Literal b:\n",
      "\n",
      "El método de Gauss-Jacobi no convergió.\n",
      "\n",
      "Literal c:\n",
      "\n",
      "El método de Gauss-Jacobi no convergió.\n"
     ]
    }
   ],
   "source": [
    "%autoreload 2\n",
    "print(\"\\nLiteral b:\\n\")\n",
    "A = np.array([\n",
    "    [1, 0, -1],\n",
    "    [1/2,1,-1/4],\n",
    "    [1,-1/2,1]\n",
    "], dtype=float)\n",
    "b = [0.2,-1.425,2]\n",
    "x0 = np.zeros(len(b))\n",
    "tol = 10e-22\n",
    "max_iter = 300\n",
    "\n",
    "try:\n",
    "    x = gauss_jacobi(A, b, x0, tol, max_iter)\n",
    "    print(\"La solución obtenida con Gauss-Seidel es de \\nx =\",x)\n",
    "except ValueError as e:\n",
    "    print(e)\n",
    "    \n",
    "print(\"\\nLiteral c:\\n\")\n",
    "A_mod = np.array([\n",
    "    [1, 0, -2],\n",
    "    [1/2,1,-1/4],\n",
    "    [1,-1/2,1]\n",
    "], dtype=float)\n",
    "\n",
    "try:\n",
    "    x = gauss_jacobi(A_mod, b, x0, tol, max_iter)\n",
    "    print(\"La solución obtenida con Gauss-Seidel es de \\nx =\",x)\n",
    "except ValueError as e:\n",
    "    print(e)"
   ]
  },
  {
   "cell_type": "markdown",
   "id": "1520857c-107a-458d-b59c-dcadcc9de048",
   "metadata": {},
   "source": [
    "8. Un cable coaxial está formado por un conductor interno de 0.1 pulgadas cuadradas y un conductor externo de 0.5 pulgadas cuadradas. El potencial en un punto en la sección transversal del cable se describe mediante la ecuación de Laplace.\n",
    "Suponga que el conductor interno se mantiene en 0 volts y el conductor externo se mantiene en 110 volts. Aproximar el potencial entre los dos conductores requiere resolver el siguiente sistema lineal."
   ]
  },
  {
   "cell_type": "markdown",
   "id": "b47192db-714b-47d9-97bb-2211b954f198",
   "metadata": {},
   "source": [
    "![](ejer8.png)"
   ]
  },
  {
   "cell_type": "code",
   "execution_count": 34,
   "id": "c0bbfc9d-3a8b-4d54-b0a5-c029d01d97ce",
   "metadata": {
    "tags": []
   },
   "outputs": [],
   "source": [
    "import numpy as np\n",
    "\n",
    "# Matriz de coeficientes A\n",
    "A = np.array([\n",
    "    [4, -1, 0, 0, -1, 0, 0, 0, 0, 0, 0, 0],\n",
    "    [-1, 4, -1, 0, 0, 0, 0, 0, 0, 0, 0, 0],\n",
    "    [0, -1, 4, -1, 0, 0, 0, 0, 0, 0, 0, 0],\n",
    "    [0, 0, -1, 4, 0, -1, 0, 0, 0, 0, 0, 0],\n",
    "    [-1, 0, 0, 0, 4, 0, -1, 0, 0, 0, 0, 0],\n",
    "    [0, 0, 0, -1, 0, 4, 0, -1, 0, 0, 0, 0],\n",
    "    [0, 0, 0, 0, -1, 0, 4, 0, -1, 0, 0, 0],\n",
    "    [0, 0, 0, 0, 0, -1, 0, 4, 0, 0, 0, -1],\n",
    "    [0, 0, 0, 0, 0, 0, -1, 0, 4, -1, 0, 0],\n",
    "    [0, 0, 0, 0, 0, 0, 0, 0, -1, 4, -1, 0],\n",
    "    [0, 0, 0, 0, 0, 0, 0, 0, 0, -1, 4, -1],\n",
    "    [0, 0, 0, 0, 0, -1, 0, 0, 0, 0, -1, 4]\n",
    "], dtype=float)\n",
    "\n",
    "# Vector de términos independientes b\n",
    "b = np.array([220, 110, 110, 220, 110, 110, 110, 110,220, 110, 110, 220], dtype=float)\n"
   ]
  },
  {
   "cell_type": "markdown",
   "id": "14a31b13-8236-45c6-90dd-8911e2e014d5",
   "metadata": {},
   "source": [
    "\\textbf{a.} ¿La matriz es estrictamente diagonalmente dominante?"
   ]
  },
  {
   "cell_type": "code",
   "execution_count": 36,
   "id": "6920a1dc-0d6a-4bd5-9a34-3f901c3ace11",
   "metadata": {
    "tags": []
   },
   "outputs": [
    {
     "name": "stdout",
     "output_type": "stream",
     "text": [
      "La matriz es estrictamente diagonal dominante.\n"
     ]
    }
   ],
   "source": [
    "if es_diagonal_estrictamente_dominante(A):\n",
    "    print(\"La matriz es estrictamente diagonal dominante.\")\n",
    "else:\n",
    "    print(\"La matriz NO es estrictamente diagonal dominante.\")"
   ]
  },
  {
   "cell_type": "markdown",
   "id": "1d559701-1c88-436a-8a1c-9a4ee6dbe9ac",
   "metadata": {},
   "source": [
    "\\textbf{b.} Resuelva el sistema lineal usando el método de Jacobi con $x(0) = 0$ y $TOL = 10^{-2}$"
   ]
  },
  {
   "cell_type": "code",
   "execution_count": 38,
   "id": "488718c9-44c5-4515-b6f6-795d3aa35a9b",
   "metadata": {
    "tags": []
   },
   "outputs": [
    {
     "name": "stdout",
     "output_type": "stream",
     "text": [
      "La solución obtenida con Gauss-Seidel es de \n",
      "x = [87.92837143 65.92839241 65.92839241 87.92837143 65.92839241 65.92839241\n",
      " 65.92839241 65.92839241 87.92837143 65.92839241 65.92839241 87.92837143]\n"
     ]
    }
   ],
   "source": [
    "x0 = np.zeros(len(b))\n",
    "tol = 10e-2\n",
    "max_iter = 300\n",
    "\n",
    "try:\n",
    "    x = gauss_jacobi(A, b, x0, tol, max_iter)\n",
    "    print(\"La solución obtenida con Gauss-Seidel es de \\nx =\",x)\n",
    "except ValueError as e:\n",
    "    print(e)"
   ]
  },
  {
   "cell_type": "markdown",
   "id": "ac833914-884d-4620-b56b-21389f4ef703",
   "metadata": {},
   "source": [
    "\\textbf{c.} Repita la parte b) mediante el método de Gauss-Siedel."
   ]
  },
  {
   "cell_type": "code",
   "execution_count": 40,
   "id": "03d7b3ae-8cbd-4ca7-bfab-cca19f011dc5",
   "metadata": {},
   "outputs": [
    {
     "name": "stdout",
     "output_type": "stream",
     "text": [
      "La solución obtenida con Gauss-Seidel es de \n",
      "x = [87.98217949 65.98985217 65.99375664 87.99604191 65.98985217 65.9974727\n",
      " 65.99375664 65.99838442 87.99604191 65.9974727  65.99838442 87.99896428]\n"
     ]
    }
   ],
   "source": [
    "try:\n",
    "    x = gauss_seidel(A, b, x0, tol, max_iter)\n",
    "    print(\"La solución obtenida con Gauss-Seidel es de \\nx =\",x)\n",
    "except ValueError as e:\n",
    "    print(e)"
   ]
  },
  {
   "cell_type": "markdown",
   "id": "1c471793-ac9a-4821-952b-bb2eea18732a",
   "metadata": {},
   "source": [
    "## Link del repositorio:"
   ]
  },
  {
   "cell_type": "markdown",
   "id": "d746ed7a-20cf-4e1d-8dbe-f36feede1e74",
   "metadata": {},
   "source": [
    "https://github.com/MarckHA/Tarea_11-Gauss-Jacobi-Gauss-Seidel.git"
   ]
  },
  {
   "cell_type": "code",
   "execution_count": null,
   "id": "5c90e3da-0a83-443e-aee6-53d3d1d862d8",
   "metadata": {},
   "outputs": [],
   "source": []
  }
 ],
 "metadata": {
  "kernelspec": {
   "display_name": "Python 3 (ipykernel)",
   "language": "python",
   "name": "python3"
  },
  "language_info": {
   "codemirror_mode": {
    "name": "ipython",
    "version": 3
   },
   "file_extension": ".py",
   "mimetype": "text/x-python",
   "name": "python",
   "nbconvert_exporter": "python",
   "pygments_lexer": "ipython3",
   "version": "3.11.7"
  }
 },
 "nbformat": 4,
 "nbformat_minor": 5
}
